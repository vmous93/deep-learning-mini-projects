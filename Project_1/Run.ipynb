{
 "cells": [
  {
   "cell_type": "code",
   "execution_count": 1,
   "id": "d04f51cb",
   "metadata": {},
   "outputs": [],
   "source": [
    "from Neural_Nets import *\n",
    "from Neural_Nets_with_Auxiliary_Losses import *\n",
    "from Neural_Nets_with_Weight_sharing import *\n",
    "from Neural_Nets_with_WS_AL import *"
   ]
  },
  {
   "cell_type": "code",
   "execution_count": 2,
   "id": "6df7bb8f",
   "metadata": {},
   "outputs": [],
   "source": [
    "import matplotlib.pyplot as plt"
   ]
  },
  {
   "cell_type": "code",
   "execution_count": 3,
   "id": "d8e09505",
   "metadata": {},
   "outputs": [],
   "source": [
    "def std_mean(ls):\n",
    "    n = len(ls)\n",
    "    mean = sum(ls) / n\n",
    "    var = sum((x - mean)**2 for x in ls) / n\n",
    "    std_dev = var**0.5\n",
    "    return std_dev, mean"
   ]
  },
  {
   "cell_type": "code",
   "execution_count": 4,
   "id": "38542f30",
   "metadata": {},
   "outputs": [],
   "source": [
    "mini_batch_size = 200\n",
    "learning_rate = 0.01"
   ]
  },
  {
   "cell_type": "markdown",
   "id": "47427fea",
   "metadata": {},
   "source": [
    "# Neural Net"
   ]
  },
  {
   "cell_type": "code",
   "execution_count": 5,
   "id": "0ddef067",
   "metadata": {},
   "outputs": [],
   "source": [
    "train_err_LeNet, test_err_LeNet, train_acc_LeNet, test_acc_LeNet, tr_errs_lenet = nn_run(mini_batch_size,\n",
    "                                                                    learning_rate, mod=1)\n"
   ]
  },
  {
   "cell_type": "code",
   "execution_count": 6,
   "id": "c70c6d62",
   "metadata": {},
   "outputs": [],
   "source": [
    "train_err_LeNet_std, train_err_LeNet_mean = std_mean(train_err_LeNet)\n",
    "test_err_LeNet_std, test_err_LeNet_mean = std_mean(test_err_LeNet)\n",
    "\n",
    "train_acc_LeNet_std, train_acc_LeNet_mean = std_mean(train_acc_LeNet)\n",
    "test_acc_LeNet_std, test_acc_LeNet_mean = std_mean(test_acc_LeNet)"
   ]
  },
  {
   "cell_type": "code",
   "execution_count": 7,
   "id": "728b082f",
   "metadata": {},
   "outputs": [
    {
     "name": "stdout",
     "output_type": "stream",
     "text": [
      "*** Network: LeNet5 *** \n",
      "\n",
      "Train accuracy:  [98.0, 98.5, 98.5, 98.2, 98.6, 98.3, 98.8, 98.2, 98.3, 98.4]   Std:  0.218 ,  Mean:  98.38 \n",
      "Test accuracy:  [78.0, 80.1, 77.0, 79.5, 80.3, 80.1, 80.7, 79.6, 81.1, 79.2]   Std:  1.18 ,  Mean:  79.56 \n",
      "\n",
      "Train errors:  [2.0, 1.5, 1.5, 1.8, 1.4, 1.7, 1.2, 1.8, 1.7, 1.6]   Std:  0.218 ,  Mean:  1.62 \n",
      "Test errors:  [22.0, 19.9, 23.0, 20.5, 19.7, 19.9, 19.3, 20.4, 18.9, 20.8]   Std:  1.18 ,  Mean:  20.44\n"
     ]
    }
   ],
   "source": [
    "print(\"*** Network: LeNet5 *** \\n\\nTrain accuracy: \", train_acc_LeNet,\n",
    "      \"  Std: \",round(train_acc_LeNet_std,3),\",  Mean: \",round(train_acc_LeNet_mean,3),\n",
    "      \"\\nTest accuracy: \", test_acc_LeNet, \"  Std: \", round(test_acc_LeNet_std,3),\n",
    "      \",  Mean: \", round(test_acc_LeNet_mean,3),\n",
    "      \"\\n\\nTrain errors: \", train_err_LeNet,\n",
    "      \"  Std: \",round(train_err_LeNet_std,3),\",  Mean: \",round(train_err_LeNet_mean,3) ,\n",
    "      \"\\nTest errors: \", test_err_LeNet, \"  Std: \", round(test_err_LeNet_std,3), \",  Mean: \", round(test_err_LeNet_mean,3))\n",
    "\n"
   ]
  },
  {
   "cell_type": "code",
   "execution_count": 8,
   "id": "a31836e5",
   "metadata": {},
   "outputs": [],
   "source": [
    "train_err_MLP, test_err_MLP, train_acc_MLP, test_acc_MLP, tr_errs_nn = nn_run(mini_batch_size,\n",
    "                                                            learning_rate, mod=0)\n",
    " "
   ]
  },
  {
   "cell_type": "code",
   "execution_count": 9,
   "id": "3ebab16b",
   "metadata": {},
   "outputs": [],
   "source": [
    "train_err_MLP_std, train_err_MLP_mean = std_mean(train_err_MLP)\n",
    "test_err_MLP_std, test_err_MLP_mean = std_mean(test_err_MLP)\n",
    "\n",
    "train_acc_MLP_std, train_acc_MLP_mean = std_mean(train_acc_MLP)\n",
    "test_acc_MLP_std, test_acc_MLP_mean = std_mean(test_acc_MLP)\n"
   ]
  },
  {
   "cell_type": "code",
   "execution_count": 10,
   "id": "598029ee",
   "metadata": {},
   "outputs": [
    {
     "name": "stdout",
     "output_type": "stream",
     "text": [
      "*** Network: MLPNet *** \n",
      "\n",
      "Train accuracy:  [99.2, 98.9, 99.5, 98.3, 98.4, 99.0, 99.1, 99.1, 99.3, 99.7]   Std:  0.415 ,  Mean:  99.05 \n",
      "Test accuracy:  [77.4, 78.7, 77.5, 79.6, 78.1, 79.3, 79.9, 78.8, 77.9, 80.3]   Std:  0.964 ,  Mean:  78.75 \n",
      "\n",
      "Train errors:  [0.8, 1.1, 0.5, 1.7, 1.6, 1.0, 0.9, 0.9, 0.7, 0.3]   Std:  0.415 ,  Mean:  0.95 \n",
      "Test errors:  [22.6, 21.3, 22.5, 20.4, 21.9, 20.7, 20.1, 21.2, 22.1, 19.7]   Std:  0.964 ,  Mean:  21.25\n"
     ]
    }
   ],
   "source": [
    "print(\"\\n\\n*** Network: MLPNet *** \\n\\nTrain accuracy: \", train_acc_MLP,\n",
    "      \"  Std: \",round(train_acc_MLP_std,3),\",  Mean: \",round(train_acc_MLP_mean,3),\n",
    "      \"\\nTest accuracy: \", test_acc_MLP, \"  Std: \", round(test_acc_MLP_std,3),\n",
    "      \",  Mean: \", round(test_acc_MLP_mean,3),\n",
    "      \"\\n\\nTrain errors: \", train_err_MLP,\n",
    "      \"  Std: \",round(train_err_MLP_std,3),\",  Mean: \",round(train_err_MLP_mean,3) ,\n",
    "      \"\\nTest errors: \", test_err_MLP, \"  Std: \", round(test_err_MLP_std,3), \",  Mean: \", round(test_err_MLP_mean,3))\n",
    "\n"
   ]
  },
  {
   "cell_type": "markdown",
   "id": "3256e8b3",
   "metadata": {},
   "source": [
    "# Weight Sharing"
   ]
  },
  {
   "cell_type": "code",
   "execution_count": 11,
   "id": "d807d52d",
   "metadata": {},
   "outputs": [],
   "source": [
    "train_err_WS_MLP, test_err_WS_MLP, train_acc_WS_MLP, test_acc_WS_MLP, tr_errs_nn_ws = ws_run(mini_batch_size,\n",
    "                                                            learning_rate, mod=0)\n"
   ]
  },
  {
   "cell_type": "code",
   "execution_count": 12,
   "id": "a6766591",
   "metadata": {},
   "outputs": [],
   "source": [
    "train_err_WS_MLP_std, train_err_WS_MLP_mean = std_mean(train_err_WS_MLP)\n",
    "test_err_WS_MLP_std, test_err_WS_MLP_mean = std_mean(test_err_WS_MLP)\n",
    "\n",
    "train_acc_WS_MLP_std, train_acc_WS_MLP_mean = std_mean(train_acc_WS_MLP)\n",
    "test_acc_WS_MLP_std, test_acc_WS_MLP_mean = std_mean(test_acc_WS_MLP)"
   ]
  },
  {
   "cell_type": "code",
   "execution_count": 13,
   "id": "f559e58a",
   "metadata": {},
   "outputs": [
    {
     "name": "stdout",
     "output_type": "stream",
     "text": [
      "*** Network: MLPNet with Weight Sharing *** \n",
      "\n",
      "Train accuracy:  [97.7, 98.8, 98.3, 98.9, 97.7, 97.6, 98.4, 98.4, 98.6, 97.8]   Std:  0.46 ,  Mean:  98.22 \n",
      "Test accuracy:  [84.4, 84.5, 83.2, 83.3, 84.4, 83.1, 85.4, 84.9, 84.8, 85.2]   Std:  0.796 ,  Mean:  84.32 \n",
      "\n",
      "Train errors:  [2.3, 1.2, 1.7, 1.1, 2.3, 2.4, 1.6, 1.6, 1.4, 2.2]   Std:  0.46 ,  Mean:  1.78 \n",
      "Test errors:  [15.6, 15.5, 16.8, 16.7, 15.6, 16.9, 14.6, 15.1, 15.2, 14.8]   Std:  0.796 ,  Mean:  15.68\n"
     ]
    }
   ],
   "source": [
    "print(\"\\n\\n*** Network: MLPNet with Weight Sharing *** \\n\\nTrain accuracy: \", train_acc_WS_MLP,\n",
    "      \"  Std: \",round(train_acc_WS_MLP_std,3),\",  Mean: \",round(train_acc_WS_MLP_mean,3),\n",
    "      \"\\nTest accuracy: \", test_acc_WS_MLP, \"  Std: \", round(test_acc_WS_MLP_std,3),\n",
    "      \",  Mean: \", round(test_acc_WS_MLP_mean,3),\n",
    "      \"\\n\\nTrain errors: \", train_err_WS_MLP,\n",
    "      \"  Std: \",round(train_err_WS_MLP_std,3),\",  Mean: \",round(train_err_WS_MLP_mean,3) ,\n",
    "      \"\\nTest errors: \", test_err_WS_MLP, \"  Std: \", round(test_err_WS_MLP_std,3), \",  Mean: \", round(test_err_WS_MLP_mean,3))\n",
    "\n"
   ]
  },
  {
   "cell_type": "code",
   "execution_count": 14,
   "id": "e561680e",
   "metadata": {},
   "outputs": [],
   "source": [
    "train_err_WS_LeNet, test_err_WS_LeNet, train_acc_WS_LeNet, test_acc_WS_LeNet, tr_errs_lenet_ws = ws_run(mini_batch_size,\n",
    "                                                            learning_rate, mod=1)\n"
   ]
  },
  {
   "cell_type": "code",
   "execution_count": 15,
   "id": "63bf8280",
   "metadata": {},
   "outputs": [],
   "source": [
    "train_err_WS_LeNet_std, train_err_WS_LeNet_mean = std_mean(train_err_WS_LeNet)\n",
    "test_err_WS_LeNet_std, test_err_WS_LeNet_mean = std_mean(test_err_WS_LeNet)\n",
    "\n",
    "train_acc_WS_LeNet_std, train_acc_WS_LeNet_mean = std_mean(train_acc_WS_LeNet)\n",
    "test_acc_WS_LeNet_std, test_acc_WS_LeNet_mean = std_mean(test_acc_WS_LeNet)\n",
    "\n"
   ]
  },
  {
   "cell_type": "code",
   "execution_count": 16,
   "id": "4d1a406f",
   "metadata": {},
   "outputs": [
    {
     "name": "stdout",
     "output_type": "stream",
     "text": [
      "*** Network: LeNet5 with Weight Sharing *** \n",
      "\n",
      "Train accuracy:  [99.6, 99.2, 98.8, 99.2, 99.1, 99.1, 99.0, 99.2, 99.2, 98.9]   Std:  0.205 ,  Mean:  99.13 \n",
      "Test accuracy:  [83.7, 81.4, 84.1, 85.9, 85.7, 86.5, 85.4, 86.7, 86.3, 84.6]   Std:  1.546 ,  Mean:  85.03 \n",
      "\n",
      "Train errors:  [0.4, 0.8, 1.2, 0.8, 0.9, 0.9, 1.0, 0.8, 0.8, 1.1]   Std:  0.205 ,  Mean:  0.87 \n",
      "Test errors:  [16.3, 18.6, 15.9, 14.1, 14.3, 13.5, 14.6, 13.3, 13.7, 15.4]   Std:  1.546 ,  Mean:  14.97\n"
     ]
    }
   ],
   "source": [
    "print(\"\\n\\n*** Network: LeNet5 with Weight Sharing *** \\n\\nTrain accuracy: \", train_acc_WS_LeNet,\n",
    "      \"  Std: \",round(train_acc_WS_LeNet_std,3),\",  Mean: \",round(train_acc_WS_LeNet_mean,3),\n",
    "      \"\\nTest accuracy: \", test_acc_WS_LeNet, \"  Std: \", round(test_acc_WS_LeNet_std,3),\n",
    "      \",  Mean: \", round(test_acc_WS_LeNet_mean,3),\n",
    "      \"\\n\\nTrain errors: \", train_err_WS_LeNet,\n",
    "      \"  Std: \",round(train_err_WS_LeNet_std,3),\",  Mean: \",round(train_err_WS_LeNet_mean,3) ,\n",
    "      \"\\nTest errors: \", test_err_WS_LeNet, \"  Std: \", round(test_err_WS_LeNet_std,3), \",  Mean: \", round(test_err_WS_LeNet_mean,3))\n",
    "\n"
   ]
  },
  {
   "cell_type": "markdown",
   "id": "0f68969d",
   "metadata": {},
   "source": [
    "# Auxiliary losses"
   ]
  },
  {
   "cell_type": "code",
   "execution_count": 17,
   "id": "731d3ae7",
   "metadata": {},
   "outputs": [],
   "source": [
    "train_err_ALoss_MLP, test_err_ALoss_MLP, train_acc_ALoss_MLP, test_acc_ALoss_MLP, tr_errs_nn_al = axLoss_run(mini_batch_size,\n",
    "                                                            learning_rate, mod=0)\n"
   ]
  },
  {
   "cell_type": "code",
   "execution_count": 18,
   "id": "b9474ba8",
   "metadata": {},
   "outputs": [],
   "source": [
    "train_err_ALoss_MLP_std, train_err_ALoss_MLP_mean = std_mean(train_err_ALoss_MLP)\n",
    "test_err_ALoss_MLP_std, test_err_ALoss_MLP_mean = std_mean(test_err_ALoss_MLP)\n",
    "\n",
    "\n",
    "train_acc_ALoss_MLP_std, train_acc_ALoss_MLP_mean = std_mean(train_acc_ALoss_MLP)\n",
    "test_acc_ALoss_MLP_std, test_acc_ALoss_MLP_mean = std_mean(test_acc_ALoss_MLP)\n"
   ]
  },
  {
   "cell_type": "code",
   "execution_count": 19,
   "id": "c0fac97a",
   "metadata": {},
   "outputs": [
    {
     "name": "stdout",
     "output_type": "stream",
     "text": [
      "*** Network: MLPNet with Auxiliary losses *** \n",
      "\n",
      "Train accuracy:  [99.1, 98.5, 99.1, 98.8, 97.5, 98.9, 99.3, 99.0, 98.8, 99.3]   Std:  0.5 ,  Mean:  98.83 \n",
      "Test accuracy:  [92.4, 91.4, 91.2, 92.6, 89.0, 92.6, 92.7, 92.1, 93.0, 93.4]   Std:  1.197 ,  Mean:  92.04 \n",
      "\n",
      "Train errors:  [0.9, 1.5, 0.9, 1.2, 2.5, 1.1, 0.7, 1.0, 1.2, 0.7]   Std:  0.5 ,  Mean:  1.17 \n",
      "Test errors:  [7.6, 8.6, 8.8, 7.4, 11.0, 7.4, 7.3, 7.9, 7.0, 6.6]   Std:  1.197 ,  Mean:  7.96\n"
     ]
    }
   ],
   "source": [
    "print(\"\\n\\n*** Network: MLPNet with Auxiliary losses *** \\n\\nTrain accuracy: \", train_acc_ALoss_MLP,\n",
    "      \"  Std: \",round(train_acc_ALoss_MLP_std,3),\",  Mean: \",round(train_acc_ALoss_MLP_mean,3),\n",
    "      \"\\nTest accuracy: \", test_acc_ALoss_MLP, \"  Std: \", round(test_acc_ALoss_MLP_std,3),\n",
    "      \",  Mean: \", round(test_acc_ALoss_MLP_mean,3),\n",
    "      \"\\n\\nTrain errors: \", train_err_ALoss_MLP,\n",
    "      \"  Std: \",round(train_err_ALoss_MLP_std,3),\",  Mean: \",round(train_err_ALoss_MLP_mean,3) ,\n",
    "      \"\\nTest errors: \", test_err_ALoss_MLP, \"  Std: \", round(test_err_ALoss_MLP_std,3), \",  Mean: \", round(test_err_ALoss_MLP_mean,3))\n",
    "\n"
   ]
  },
  {
   "cell_type": "code",
   "execution_count": 20,
   "id": "42eba6eb",
   "metadata": {},
   "outputs": [],
   "source": [
    "train_err_ALoss_LeNet, test_err_ALoss_LeNet, train_acc_ALoss_LeNet, test_acc_ALoss_LeNet, tr_errs_lenet_al = axLoss_run(mini_batch_size,\n",
    "                                                            learning_rate, mod=1)\n",
    "\n"
   ]
  },
  {
   "cell_type": "code",
   "execution_count": 21,
   "id": "ab9c054a",
   "metadata": {},
   "outputs": [],
   "source": [
    "train_err_ALoss_LeNet_std, train_err_ALoss_LeNet_mean = std_mean(train_err_ALoss_LeNet)\n",
    "test_err_ALoss_LeNet_std, test_err_ALoss_LeNet_mean = std_mean(test_err_ALoss_LeNet)\n",
    "\n",
    "\n",
    "train_acc_ALoss_LeNet_std, train_acc_ALoss_LeNet_mean = std_mean(train_acc_ALoss_LeNet)\n",
    "test_acc_ALoss_LeNet_std, test_acc_ALoss_LeNet_mean = std_mean(test_acc_ALoss_LeNet)\n",
    "\n"
   ]
  },
  {
   "cell_type": "code",
   "execution_count": 22,
   "id": "57569ae9",
   "metadata": {},
   "outputs": [
    {
     "name": "stdout",
     "output_type": "stream",
     "text": [
      "*** Network: LeNet5 with Auxiliary losses *** \n",
      "\n",
      "Train accuracy:  [99.0, 99.0, 99.2, 99.0, 99.2, 98.9, 98.8, 98.9, 99.1, 98.8]   Std:  0.137 ,  Mean:  98.99 \n",
      "Test accuracy:  [95.0, 94.6, 93.2, 95.2, 94.8, 94.4, 93.3, 93.8, 95.7, 87.6]   Std:  2.192 ,  Mean:  93.76 \n",
      "\n",
      "Train errors:  [1.0, 1.0, 0.8, 1.0, 0.8, 1.1, 1.2, 1.1, 0.9, 1.2]   Std:  0.137 ,  Mean:  1.01 \n",
      "Test errors:  [5.0, 5.4, 6.8, 4.8, 5.2, 5.6, 6.7, 6.2, 4.3, 12.4]   Std:  2.192 ,  Mean:  6.24\n"
     ]
    }
   ],
   "source": [
    "print(\"\\n\\n*** Network: LeNet5 with Auxiliary losses *** \\n\\nTrain accuracy: \", train_acc_ALoss_LeNet,\n",
    "      \"  Std: \",round(train_acc_ALoss_LeNet_std,3),\",  Mean: \",round(train_acc_ALoss_LeNet_mean,3),\n",
    "      \"\\nTest accuracy: \", test_acc_ALoss_LeNet, \"  Std: \", round(test_acc_ALoss_LeNet_std,3),\n",
    "      \",  Mean: \", round(test_acc_ALoss_LeNet_mean,3),\n",
    "      \"\\n\\nTrain errors: \", train_err_ALoss_LeNet,\n",
    "      \"  Std: \",round(train_err_ALoss_LeNet_std,3),\",  Mean: \",round(train_err_ALoss_LeNet_mean,3) ,\n",
    "      \"\\nTest errors: \", test_err_ALoss_LeNet, \"  Std: \", round(test_err_ALoss_LeNet_std,3), \",  Mean: \", round(test_err_ALoss_LeNet_mean,3))\n",
    "\n"
   ]
  },
  {
   "cell_type": "markdown",
   "id": "eaa5d2f0",
   "metadata": {},
   "source": [
    "# Weight sharing and Auxiliary losses"
   ]
  },
  {
   "cell_type": "code",
   "execution_count": 23,
   "id": "8bc4d9d8",
   "metadata": {},
   "outputs": [],
   "source": [
    "train_err_WSAL_MLP, test_err_WSAL_MLP, train_acc_WSAL_MLP, test_acc_WSAL_MLP, tr_errs_nn_wsal = WSAL_run(mini_batch_size,\n",
    "                                                            learning_rate, mod=0)\n",
    "\n"
   ]
  },
  {
   "cell_type": "code",
   "execution_count": 24,
   "id": "796998b5",
   "metadata": {},
   "outputs": [],
   "source": [
    "train_err_WSAL_MLP_std, train_err_WSAL_MLP_mean = std_mean(train_err_WSAL_MLP)\n",
    "test_err_WSAL_MLP_std, test_err_WSAL_MLP_mean = std_mean(test_err_WSAL_MLP)\n",
    "\n",
    "\n",
    "train_acc_WSAL_MLP_std, train_acc_WSAL_MLP_mean = std_mean(train_acc_WSAL_MLP)\n",
    "test_acc_WSAL_MLP_std, test_acc_WSAL_MLP_mean = std_mean(test_acc_WSAL_MLP)\n",
    "\n"
   ]
  },
  {
   "cell_type": "code",
   "execution_count": 25,
   "id": "e72047ec",
   "metadata": {},
   "outputs": [
    {
     "name": "stdout",
     "output_type": "stream",
     "text": [
      "*** Network: MLPNet with Weight sharing and Auxiliary losses *** \n",
      "\n",
      "Train accuracy:  [98.3, 97.8, 98.9, 99.0, 98.8, 98.9, 99.0, 98.1, 99.2, 99.1]   Std:  0.448 ,  Mean:  98.71 \n",
      "Test accuracy:  [92.0, 93.9, 95.0, 92.3, 94.4, 93.0, 93.7, 89.6, 92.8, 92.0]   Std:  1.455 ,  Mean:  92.87 \n",
      "\n",
      "Train errors:  [1.7, 2.2, 1.1, 1.0, 1.2, 1.1, 1.0, 1.9, 0.8, 0.9]   Std:  0.448 ,  Mean:  1.29 \n",
      "Test errors:  [8.0, 6.1, 5.0, 7.7, 5.6, 7.0, 6.3, 10.4, 7.2, 8.0]   Std:  1.455 ,  Mean:  7.13\n"
     ]
    }
   ],
   "source": [
    "print(\"\\n\\n*** Network: MLPNet with Weight sharing and Auxiliary losses *** \\n\\nTrain accuracy: \", train_acc_WSAL_MLP,\n",
    "      \"  Std: \",round(train_acc_WSAL_MLP_std,3),\",  Mean: \",round(train_acc_WSAL_MLP_mean,3),\n",
    "      \"\\nTest accuracy: \", test_acc_WSAL_MLP, \"  Std: \", round(test_acc_WSAL_MLP_std,3),\n",
    "      \",  Mean: \", round(test_acc_WSAL_MLP_mean,3),\n",
    "      \"\\n\\nTrain errors: \", train_err_WSAL_MLP,\n",
    "      \"  Std: \",round(train_err_WSAL_MLP_std,3),\",  Mean: \",round(train_err_WSAL_MLP_mean,3) ,\n",
    "      \"\\nTest errors: \", test_err_WSAL_MLP, \"  Std: \", round(test_err_WSAL_MLP_std,3), \",  Mean: \", round(test_err_WSAL_MLP_mean,3))\n",
    "\n"
   ]
  },
  {
   "cell_type": "code",
   "execution_count": 26,
   "id": "853de083",
   "metadata": {},
   "outputs": [],
   "source": [
    "train_err_WSAL_LeNet, test_err_WSAL_LeNet, train_acc_WSAL_LeNet, test_acc_WSAL_LeNet, tr_errs_lenet_wsal = WSAL_run(mini_batch_size,\n",
    "                                                            learning_rate, mod=1)\n",
    "\n"
   ]
  },
  {
   "cell_type": "code",
   "execution_count": 27,
   "id": "75a8120b",
   "metadata": {},
   "outputs": [],
   "source": [
    "train_err_WSAL_LeNet_std, train_err_WSAL_LeNet_mean = std_mean(train_err_WSAL_LeNet)\n",
    "test_err_WSAL_LeNet_std, test_err_WSAL_LeNet_mean = std_mean(test_err_WSAL_LeNet)\n",
    "\n",
    "\n",
    "train_acc_WSAL_LeNet_std, train_acc_WSAL_LeNet_mean = std_mean(train_acc_WSAL_LeNet)\n",
    "test_acc_WSAL_LeNet_std, test_acc_WSAL_LeNet_mean = std_mean(test_acc_WSAL_LeNet)\n",
    "\n"
   ]
  },
  {
   "cell_type": "code",
   "execution_count": 28,
   "id": "e5f996f7",
   "metadata": {},
   "outputs": [
    {
     "name": "stdout",
     "output_type": "stream",
     "text": [
      "*** Network: LeNet5 with Weight sharing and Auxiliary losses *** \n",
      "\n",
      "Train accuracy:  [98.8, 98.1, 98.6, 98.3, 98.0, 98.0, 98.1, 98.8, 98.2, 98.1]   Std:  0.3 ,  Mean:  98.3 \n",
      "Test accuracy:  [95.7, 95.2, 96.2, 95.6, 93.8, 94.8, 95.9, 94.6, 95.1, 94.0]   Std:  0.756 ,  Mean:  95.09 \n",
      "\n",
      "Train errors:  [1.2, 1.9, 1.4, 1.7, 2.0, 2.0, 1.9, 1.2, 1.8, 1.9]   Std:  0.3 ,  Mean:  1.7 \n",
      "Test errors:  [4.3, 4.8, 3.8, 4.4, 6.2, 5.2, 4.1, 5.4, 4.9, 6.0]   Std:  0.756 ,  Mean:  4.91\n"
     ]
    }
   ],
   "source": [
    "print(\"\\n\\n*** Network: LeNet5 with Weight sharing and Auxiliary losses *** \\n\\nTrain accuracy: \", train_acc_WSAL_LeNet,\n",
    "      \"  Std: \",round(train_acc_WSAL_LeNet_std,3),\",  Mean: \",round(train_acc_WSAL_LeNet_mean,3),\n",
    "      \"\\nTest accuracy: \", test_acc_WSAL_LeNet, \"  Std: \", round(test_acc_WSAL_LeNet_std,3),\n",
    "      \",  Mean: \", round(test_acc_WSAL_LeNet_mean,3),\n",
    "      \"\\n\\nTrain errors: \", train_err_WSAL_LeNet,\n",
    "      \"  Std: \",round(train_err_WSAL_LeNet_std,3),\",  Mean: \",round(train_err_WSAL_LeNet_mean,3) ,\n",
    "      \"\\nTest errors: \", test_err_WSAL_LeNet, \"  Std: \", round(test_err_WSAL_LeNet_std,3), \",  Mean: \", round(test_err_WSAL_LeNet_mean,3))\n",
    "\n"
   ]
  },
  {
   "cell_type": "code",
   "execution_count": 31,
   "id": "e31ad89d",
   "metadata": {},
   "outputs": [
    {
     "data": {
      "image/png": "[encoded data removed]",
      "text/plain": [
       "<Figure size 864x648 with 4 Axes>"
      ]
     },
     "metadata": {
      "needs_background": "light"
     },
     "output_type": "display_data"
    }
   ],
   "source": [
    "mlpList = [tr_errs_nn, tr_errs_nn_ws, tr_errs_nn_al, tr_errs_nn_wsal]\n",
    "mlpList_labels = [\"Basic MLPNet\", \"MLPNet + Weight Sharing\", \"MLPNet + Auxiliary losses\", \"MLPNet + Weight Sharing and Auxiliary losses\"]\n",
    "\n",
    "fig, axs = plt.subplots(2, 2)\n",
    "plt.rcParams[\"figure.figsize\"] = (12,9)\n",
    "\n",
    "for i in range(len(mlpList)):\n",
    "    \n",
    "    axs[0, 0].plot(mlpList[0])\n",
    "    axs[0, 0].set_title(mlpList_labels[0])\n",
    "    axs[0, 1].plot(mlpList[1], 'tab:orange')\n",
    "    axs[0, 1].set_title(mlpList_labels[1])\n",
    "    axs[1, 0].plot(mlpList[2], 'tab:green')\n",
    "    axs[1, 0].set_title(mlpList_labels[2])\n",
    "    axs[1, 1].plot(mlpList[3], 'tab:red')\n",
    "    axs[1, 1].set_title(mlpList_labels[3])\n",
    "\n",
    "for ax in axs.flat:\n",
    "    ax.set(xlabel='Epoches', ylabel='Loss')   \n",
    "fig.tight_layout(pad=5.0)\n",
    "\n",
    "\n",
    "\n"
   ]
  },
  {
   "cell_type": "code",
   "execution_count": 30,
   "id": "9e3f3993",
   "metadata": {},
   "outputs": [
    {
     "data": {
      "image/png": "[encoded data removed]",
      "text/plain": [
       "<Figure size 864x648 with 4 Axes>"
      ]
     },
     "metadata": {
      "needs_background": "light"
     },
     "output_type": "display_data"
    }
   ],
   "source": [
    "mlpList = [tr_errs_lenet, tr_errs_lenet_ws, tr_errs_lenet_al, tr_errs_lenet_wsal]\n",
    "mlpList_labels = [\"Basic LeNet5\", \"LeNet5 + Weight Sharing\", \"LeNet5 + Auxiliary losses\", \"LeNet5 + Weight Sharing and Auxiliary losses\"]\n",
    "\n",
    "fig, axs = plt.subplots(2, 2)\n",
    "plt.rcParams[\"figure.figsize\"] = (12,9)\n",
    "\n",
    "for i in range(len(mlpList)):\n",
    "    \n",
    "    axs[0, 0].plot(mlpList[0])\n",
    "    axs[0, 0].set_title(mlpList_labels[0])\n",
    "    axs[0, 1].plot(mlpList[1], 'tab:orange')\n",
    "    axs[0, 1].set_title(mlpList_labels[1])\n",
    "    axs[1, 0].plot(mlpList[2], 'tab:green')\n",
    "    axs[1, 0].set_title(mlpList_labels[2])\n",
    "    axs[1, 1].plot(mlpList[3], 'tab:red')\n",
    "    axs[1, 1].set_title(mlpList_labels[3])\n",
    "\n",
    "for ax in axs.flat:\n",
    "    ax.set(xlabel='Epoches', ylabel='Loss')\n",
    "fig.tight_layout(pad=5.0)\n",
    "\n",
    "    \n",
    "\n",
    "\n",
    "\n"
   ]
  },
  {
   "cell_type": "code",
   "execution_count": null,
   "id": "40b512da",
   "metadata": {},
   "outputs": [],
   "source": []
  }
 ],
 "metadata": {
  "kernelspec": {
   "display_name": "Python 3",
   "language": "python",
   "name": "python3"
  },
  "language_info": {
   "codemirror_mode": {
    "name": "ipython",
    "version": 3
   },
   "file_extension": ".py",
   "mimetype": "text/x-python",
   "name": "python",
   "nbconvert_exporter": "python",
   "pygments_lexer": "ipython3",
   "version": "3.8.8"
  }
 },
 "nbformat": 4,
 "nbformat_minor": 5
}
